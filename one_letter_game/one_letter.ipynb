{
 "cells": [
  {
   "cell_type": "code",
   "execution_count": 5,
   "metadata": {},
   "outputs": [],
   "source": [
    "import string\n",
    "from one_letter_game import word_graph\n",
    "from utils import graph"
   ]
  },
  {
   "cell_type": "markdown",
   "metadata": {},
   "source": [
    "dog -> cat\n",
    "\n",
    "dog -> cog -> cot -> cat"
   ]
  },
  {
   "cell_type": "code",
   "execution_count": 6,
   "metadata": {},
   "outputs": [
    {
     "name": "stdout",
     "output_type": "stream",
     "text": [
      "3264\n"
     ]
    }
   ],
   "source": [
    "words = open(\"one_letter_game/words.txt\").read().split()\n",
    "words = [word for word in words if all(c in string.ascii_lowercase for c in word)]\n",
    "words = [word for word in words if len(word) == 5]\n",
    "print(len(words))"
   ]
  },
  {
   "cell_type": "code",
   "execution_count": 7,
   "metadata": {},
   "outputs": [],
   "source": [
    "g = word_graph.create_graph(words)"
   ]
  },
  {
   "cell_type": "code",
   "execution_count": 8,
   "metadata": {},
   "outputs": [
    {
     "data": {
      "text/plain": [
       "['house',\n",
       " 'rouse',\n",
       " 'rouge',\n",
       " 'gouge',\n",
       " 'gorge',\n",
       " 'forge',\n",
       " 'forte',\n",
       " 'forts',\n",
       " 'ports',\n",
       " 'pouts',\n",
       " 'pours',\n",
       " 'sours',\n",
       " 'slurs',\n",
       " 'blurs',\n",
       " 'blurt',\n",
       " 'blunt']"
      ]
     },
     "execution_count": 8,
     "metadata": {},
     "output_type": "execute_result"
    }
   ],
   "source": [
    "word_graph.find_path(g, \"house\", \"blunt\")"
   ]
  }
 ],
 "metadata": {
  "kernelspec": {
   "display_name": "Python 3",
   "language": "python",
   "name": "python3"
  },
  "language_info": {
   "codemirror_mode": {
    "name": "ipython",
    "version": 3
   },
   "file_extension": ".py",
   "mimetype": "text/x-python",
   "name": "python",
   "nbconvert_exporter": "python",
   "pygments_lexer": "ipython3",
   "version": "3.9.7"
  }
 },
 "nbformat": 4,
 "nbformat_minor": 2
}
