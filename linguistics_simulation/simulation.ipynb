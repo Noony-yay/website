{
 "cells": [
  {
   "cell_type": "code",
   "execution_count": 23,
   "metadata": {},
   "outputs": [],
   "source": [
    "from dataclasses import dataclass"
   ]
  },
  {
   "cell_type": "markdown",
   "metadata": {},
   "source": [
    "**Defining dataclass \"Node\"**\n",
    "\n",
    "Every person in the simulation is a node.\n",
    "\n",
    "For now only contains a list of its neighbors.\n",
    "\n",
    "*Question:* usually when defining a class parameter (?) that is a list you would write something like ```thing: list[int]```,\n",
    "but I can't write ```neighbors: list[Node]``` because Node is not defined yet\n",
    "(when I run it it does work but it's just because the notebook already knows what Node is).\n",
    "So I just wrote ```neighbors: list``` but is it the right thing to write?"
   ]
  },
  {
   "cell_type": "code",
   "execution_count": 24,
   "metadata": {},
   "outputs": [],
   "source": [
    "@dataclass\n",
    "class Node:\n",
    "    neighbors: list"
   ]
  }
 ],
 "metadata": {
  "kernelspec": {
   "display_name": "Python 3",
   "language": "python",
   "name": "python3"
  },
  "language_info": {
   "codemirror_mode": {
    "name": "ipython",
    "version": 3
   },
   "file_extension": ".py",
   "mimetype": "text/x-python",
   "name": "python",
   "nbconvert_exporter": "python",
   "pygments_lexer": "ipython3",
   "version": "3.9.7"
  }
 },
 "nbformat": 4,
 "nbformat_minor": 2
}
