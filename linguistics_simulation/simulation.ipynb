{
 "cells": [
  {
   "cell_type": "markdown",
   "metadata": {},
   "source": [
    "## Setup"
   ]
  },
  {
   "cell_type": "code",
   "execution_count": 1,
   "metadata": {},
   "outputs": [],
   "source": [
    "from dataclasses import dataclass"
   ]
  },
  {
   "cell_type": "markdown",
   "metadata": {},
   "source": [
    "### Defining constants\n",
    "\n",
    "* **NODE_NUM** <br>\n",
    "  Number of nodes in each graph."
   ]
  },
  {
   "cell_type": "code",
   "execution_count": 2,
   "metadata": {},
   "outputs": [],
   "source": [
    "NODE_NUM = 4"
   ]
  },
  {
   "cell_type": "markdown",
   "metadata": {},
   "source": [
    "### Defining classes\n",
    "\n",
    "* **Node** <br>\n",
    "  Every person in the simulation is a node. <br>\n",
    "  For now only contains a list of its neighbors, which are also Nodes.\n",
    "\n",
    "* **Graph** <br>\n",
    "  A class for all of the graphs. <br>\n",
    "  Contains a list of the Nodes in the graph. <br>\n",
    "  For example in this case we will have one \"Icelandic\" Graph and one \"English\" Graph. <br>\n",
    "  *`create_edge` function:* gets two nodes. If they are both in the graph, each one is added to the other's list of neighbors."
   ]
  },
  {
   "cell_type": "code",
   "execution_count": 3,
   "metadata": {},
   "outputs": [],
   "source": [
    "class Node:\n",
    "    def __init__(self):\n",
    "        self.neighbors: list[\"Node\"] = []\n",
    "    \n",
    "    def __str__(self) -> str:\n",
    "        return f\"Node[{len(self.neighbors)}]\"\n",
    "    \n",
    "    def __repr__(self):\n",
    "        return str(self)\n",
    "\n",
    "class Graph:\n",
    "    def __init__(self):\n",
    "        self.nodes: list[Node] = []\n",
    "    \n",
    "    def __str__(self) -> str:\n",
    "        return str(self.nodes)\n",
    "\n",
    "    def create_edge(self, node1: Node, node2: Node) -> None:\n",
    "        if node1 not in self.nodes or node2 not in self.nodes:\n",
    "            raise ValueError(\"Node not in Graph\")\n",
    "        if node1 in node2.neighbors or node2 in node1.neighbors:\n",
    "            raise ValueError(\"Edge already exists\")\n",
    "        node1.neighbors.append(node2)\n",
    "        node2.neighbors.append(node1)\n"
   ]
  },
  {
   "cell_type": "markdown",
   "metadata": {},
   "source": [
    "### Creating Graph\n",
    "\n",
    "TODO: am still not sure this works. Need to go. /:"
   ]
  },
  {
   "cell_type": "code",
   "execution_count": 4,
   "metadata": {},
   "outputs": [],
   "source": [
    "g = Graph()\n",
    "\n",
    "for i in range(NODE_NUM):\n",
    "    g.nodes.append(Node())\n",
    "    for j in range(len(g.nodes)-1):\n",
    "        g.create_edge(g.nodes[i], g.nodes[j])\n",
    "\n",
    "# for node1 in g.nodes:\n",
    "#     for node2 in g.nodes:\n",
    "#         if node2 != node1:\n",
    "#             g.create_edge(node1, node2)"
   ]
  },
  {
   "cell_type": "code",
   "execution_count": 5,
   "metadata": {},
   "outputs": [
    {
     "name": "stdout",
     "output_type": "stream",
     "text": [
      "[Node[3], Node[3], Node[3], Node[3]]\n"
     ]
    }
   ],
   "source": [
    "print(g)"
   ]
  }
 ],
 "metadata": {
  "kernelspec": {
   "display_name": "Python 3",
   "language": "python",
   "name": "python3"
  },
  "language_info": {
   "codemirror_mode": {
    "name": "ipython",
    "version": 3
   },
   "file_extension": ".py",
   "mimetype": "text/x-python",
   "name": "python",
   "nbconvert_exporter": "python",
   "pygments_lexer": "ipython3",
   "version": "3.9.7"
  }
 },
 "nbformat": 4,
 "nbformat_minor": 2
}
