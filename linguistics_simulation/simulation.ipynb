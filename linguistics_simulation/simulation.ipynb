{
 "cells": [
  {
   "cell_type": "markdown",
   "metadata": {},
   "source": [
    "## Setup"
   ]
  },
  {
   "cell_type": "code",
   "execution_count": 1,
   "metadata": {},
   "outputs": [],
   "source": [
    "from dataclasses import dataclass\n",
    "import random"
   ]
  },
  {
   "cell_type": "markdown",
   "metadata": {},
   "source": [
    "### Defining classes\n",
    "\n",
    "* **Node** <br>\n",
    "  Every person in the simulation is a node. <br>\n",
    "  For now only contains a list of its neighbors, which are also Nodes.\n",
    "\n",
    "* **Graph** <br>\n",
    "  A class for all of the graphs. <br>\n",
    "  Contains a list of the Nodes in the graph. <br>\n",
    "  For example in this case we will have one \"Icelandic\" Graph and one \"English\" Graph. <br>\n",
    "  *`create_edge` function:* gets two nodes. If they are both in the graph, each one is added to the other's list of neighbors."
   ]
  },
  {
   "cell_type": "code",
   "execution_count": 2,
   "metadata": {},
   "outputs": [],
   "source": [
    "class Node:\n",
    "    def __init__(self):\n",
    "        self.neighbors: list[\"Node\"] = []\n",
    "        \n",
    "    def __repr__(self):\n",
    "        return f\"Node[{len(self.neighbors)}]\"\n",
    "    \n",
    "    def degree(self) -> int:\n",
    "        return len(self.neighbors)\n",
    "\n",
    "\n",
    "class Graph:\n",
    "    def __init__(self):\n",
    "        self.nodes: list[Node] = []\n",
    "    \n",
    "    def __str__(self) -> str:\n",
    "        return str(self.nodes)\n",
    "\n",
    "    def create_edge(self, node1: Node, node2: Node) -> None:\n",
    "        if node1 not in self.nodes or node2 not in self.nodes:\n",
    "            raise ValueError(\"Node not in Graph\")\n",
    "        if node1 in node2.neighbors or node2 in node1.neighbors:\n",
    "            raise ValueError(\"Edge already exists\")\n",
    "        node1.neighbors.append(node2)\n",
    "        node2.neighbors.append(node1)\n"
   ]
  },
  {
   "cell_type": "markdown",
   "metadata": {},
   "source": [
    "### Creating Graph\n",
    "\n",
    "TODO: am still not sure this works. Need to go. /:"
   ]
  },
  {
   "cell_type": "code",
   "execution_count": 7,
   "metadata": {},
   "outputs": [],
   "source": [
    "def create_graph(node_num: int, edge_prob: float) -> Graph:\n",
    "    g = Graph()\n",
    "    for i in range(node_num):\n",
    "        g.nodes.append(Node())\n",
    "        for j in range(len(g.nodes)-1):\n",
    "            if random.random() < edge_prob:\n",
    "                g.create_edge(g.nodes[i], g.nodes[j])\n",
    "    return g"
   ]
  },
  {
   "cell_type": "code",
   "execution_count": 17,
   "metadata": {},
   "outputs": [
    {
     "name": "stdout",
     "output_type": "stream",
     "text": [
      "[Node[15], Node[4], Node[14], Node[11], Node[6], Node[7], Node[6], Node[12], Node[10], Node[10], Node[13], Node[10], Node[14], Node[11], Node[9], Node[11], Node[11], Node[7], Node[11], Node[8], Node[11], Node[8], Node[13], Node[7], Node[9], Node[7], Node[10], Node[6], Node[9], Node[10], Node[10], Node[11], Node[9], Node[11], Node[6], Node[12], Node[9], Node[11], Node[12], Node[11], Node[10], Node[8], Node[9], Node[9], Node[10], Node[10], Node[12], Node[8], Node[12], Node[10]]\n",
      "9.8\n"
     ]
    }
   ],
   "source": [
    "a = create_graph(50, 0.2)\n",
    "total = 0\n",
    "for n in a.nodes:\n",
    "    total += n.degree()\n",
    "print(a)\n",
    "print(total/50)"
   ]
  }
 ],
 "metadata": {
  "kernelspec": {
   "display_name": "Python 3",
   "language": "python",
   "name": "python3"
  },
  "language_info": {
   "codemirror_mode": {
    "name": "ipython",
    "version": 3
   },
   "file_extension": ".py",
   "mimetype": "text/x-python",
   "name": "python",
   "nbconvert_exporter": "python",
   "pygments_lexer": "ipython3",
   "version": "3.9.7"
  }
 },
 "nbformat": 4,
 "nbformat_minor": 2
}
