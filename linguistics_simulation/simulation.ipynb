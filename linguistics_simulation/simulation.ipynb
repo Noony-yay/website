{
 "cells": [
  {
   "cell_type": "markdown",
   "metadata": {},
   "source": [
    "# Setup"
   ]
  },
  {
   "cell_type": "markdown",
   "metadata": {},
   "source": [
    "Imports:"
   ]
  },
  {
   "cell_type": "code",
   "execution_count": 29,
   "metadata": {},
   "outputs": [],
   "source": [
    "from dataclasses import dataclass\n",
    "import random\n",
    "import matplotlib.pyplot as plt"
   ]
  },
  {
   "cell_type": "markdown",
   "metadata": {},
   "source": [
    "### Defining classes"
   ]
  },
  {
   "cell_type": "markdown",
   "metadata": {},
   "source": [
    "* **Node** <br>\n",
    "  Every person in the simulation is a node.\n",
    "  * `neighbors`: a list of all of the Node's neighbors, which are also Nodes.\n",
    "  * `degree()`: returns the number of neighbors the Node has -- its \"degree\".\n",
    "\n",
    "* **Graph** <br>\n",
    "  A class for all of the graphs. <br>\n",
    "  Contains a list of the Nodes in the graph. <br>\n",
    "  For example in this case we will have one \"Icelandic\" Graph and one \"English\" Graph.\n",
    "  * `nodes`: a list of all of the Nodes in this Graph.\n",
    "  * `create_edge`: gets two nodes. If they are both in the graph and are not already neighbors, each one is added to the other's list of neighbors, thus creating an edge between them."
   ]
  },
  {
   "cell_type": "code",
   "execution_count": 30,
   "metadata": {},
   "outputs": [],
   "source": [
    "class Node:\n",
    "    def __init__(self):\n",
    "        self.neighbors: list[\"Node\"] = []\n",
    "        self.friend_group: float = random.random()\n",
    "        self.frequency: float = 0\n",
    "        \n",
    "    def __repr__(self):\n",
    "        return f\"Node[deg={len(self.neighbors)}, freq={self.frequency:.3f}]\"\n",
    "    \n",
    "    def degree(self) -> int:\n",
    "        return len(self.neighbors)\n",
    "    \n",
    "\n",
    "class Graph:\n",
    "    def __init__(self):\n",
    "        self.nodes: list[Node] = []\n",
    "    \n",
    "    def __str__(self) -> str:\n",
    "        return str(self.nodes)\n",
    "\n",
    "    def create_edge(self, node1: Node, node2: Node) -> None:\n",
    "        if node1 not in self.nodes or node2 not in self.nodes:\n",
    "            raise ValueError(\"Node not in Graph\")\n",
    "        if node1 in node2.neighbors or node2 in node1.neighbors:\n",
    "            raise ValueError(\"Edge already exists\")\n",
    "        node1.neighbors.append(node2)\n",
    "        node2.neighbors.append(node1)\n"
   ]
  },
  {
   "cell_type": "markdown",
   "metadata": {},
   "source": [
    "### Creating Graph"
   ]
  },
  {
   "cell_type": "markdown",
   "metadata": {},
   "source": [
    "This function gets the following parameters:\n",
    "* `node_num`: the number of Nodes that are going to be in the Graph.\n",
    "* `edge_prob`: the probability two random nodes would have an edge between them.\n",
    "And returns a Graph.\n",
    "\n",
    "`friendliness`: The difference between the friend group of `g.nodes[i]` and `g.nodes[j]`, i.e. the two nodes we want to connect.\n",
    "\n",
    "Every iteration, the function creates a node, then goes over all of the nodes that were already created (this way the same pair of nodes will not occur twice). After going through the probability check, it creates an edge between the two nodes using `create_edge`.\n",
    "\n",
    "**TODO**: not sure how to confirm that the friendliness probability check works\n",
    "\n",
    "**TODO**: the friendliness thing makes it much more probable to have an edge between two nodes (because it is added to `edge_prob`). That means if `edge_prob` is 0.5 and `node_num` is 100, the average number of neighbors for each node will be around 78, while before the friendliness addition it would have been 50. Not really sure if that's a problem, and if it is how to solve it.\n",
    "\n"
   ]
  },
  {
   "cell_type": "code",
   "execution_count": 31,
   "metadata": {},
   "outputs": [],
   "source": [
    "def create_graph_simple(node_num: int, edge_prob: float) -> Graph:\n",
    "    g = Graph()\n",
    "    for i in range(node_num):\n",
    "        g.nodes.append(Node())\n",
    "        for j in range(len(g.nodes)-1):\n",
    "            if random.random() < edge_prob:\n",
    "                g.create_edge(g.nodes[i], g.nodes[j])\n",
    "    return g"
   ]
  },
  {
   "cell_type": "code",
   "execution_count": 32,
   "metadata": {},
   "outputs": [],
   "source": [
    "def create_graph_w_friend(node_num: int, edge_prob: float) -> Graph:\n",
    "    g = Graph()\n",
    "    for i in range(node_num):\n",
    "        g.nodes.append(Node())\n",
    "        for j in range(len(g.nodes)-1):\n",
    "            friendliness = abs(g.nodes[i].friend_group - g.nodes[j].friend_group)\n",
    "            if random.random() < edge_prob + friendliness:\n",
    "                g.create_edge(g.nodes[i], g.nodes[j])\n",
    "    return g"
   ]
  },
  {
   "cell_type": "markdown",
   "metadata": {},
   "source": [
    "Testing:"
   ]
  },
  {
   "cell_type": "code",
   "execution_count": 33,
   "metadata": {},
   "outputs": [
    {
     "name": "stdout",
     "output_type": "stream",
     "text": [
      "[Node[deg=50, freq=0.000], Node[deg=53, freq=0.000], Node[deg=48, freq=0.000], Node[deg=53, freq=0.000], Node[deg=54, freq=0.000], Node[deg=52, freq=0.000], Node[deg=51, freq=0.000], Node[deg=47, freq=0.000], Node[deg=47, freq=0.000], Node[deg=48, freq=0.000], Node[deg=46, freq=0.000], Node[deg=41, freq=0.000], Node[deg=55, freq=0.000], Node[deg=52, freq=0.000], Node[deg=50, freq=0.000], Node[deg=56, freq=0.000], Node[deg=46, freq=0.000], Node[deg=49, freq=0.000], Node[deg=46, freq=0.000], Node[deg=47, freq=0.000], Node[deg=49, freq=0.000], Node[deg=44, freq=0.000], Node[deg=47, freq=0.000], Node[deg=49, freq=0.000], Node[deg=57, freq=0.000], Node[deg=56, freq=0.000], Node[deg=54, freq=0.000], Node[deg=52, freq=0.000], Node[deg=42, freq=0.000], Node[deg=49, freq=0.000], Node[deg=44, freq=0.000], Node[deg=55, freq=0.000], Node[deg=48, freq=0.000], Node[deg=53, freq=0.000], Node[deg=48, freq=0.000], Node[deg=49, freq=0.000], Node[deg=48, freq=0.000], Node[deg=55, freq=0.000], Node[deg=51, freq=0.000], Node[deg=52, freq=0.000], Node[deg=49, freq=0.000], Node[deg=44, freq=0.000], Node[deg=47, freq=0.000], Node[deg=53, freq=0.000], Node[deg=46, freq=0.000], Node[deg=50, freq=0.000], Node[deg=55, freq=0.000], Node[deg=54, freq=0.000], Node[deg=58, freq=0.000], Node[deg=55, freq=0.000], Node[deg=50, freq=0.000], Node[deg=50, freq=0.000], Node[deg=45, freq=0.000], Node[deg=48, freq=0.000], Node[deg=52, freq=0.000], Node[deg=44, freq=0.000], Node[deg=55, freq=0.000], Node[deg=43, freq=0.000], Node[deg=55, freq=0.000], Node[deg=49, freq=0.000], Node[deg=45, freq=0.000], Node[deg=48, freq=0.000], Node[deg=48, freq=0.000], Node[deg=55, freq=0.000], Node[deg=53, freq=0.000], Node[deg=54, freq=0.000], Node[deg=50, freq=0.000], Node[deg=55, freq=0.000], Node[deg=51, freq=0.000], Node[deg=45, freq=0.000], Node[deg=52, freq=0.000], Node[deg=51, freq=0.000], Node[deg=46, freq=0.000], Node[deg=53, freq=0.000], Node[deg=49, freq=0.000], Node[deg=50, freq=0.000], Node[deg=45, freq=0.000], Node[deg=51, freq=0.000], Node[deg=43, freq=0.000], Node[deg=50, freq=0.000], Node[deg=40, freq=0.000], Node[deg=54, freq=0.000], Node[deg=55, freq=0.000], Node[deg=52, freq=0.000], Node[deg=53, freq=0.000], Node[deg=54, freq=0.000], Node[deg=53, freq=0.000], Node[deg=56, freq=0.000], Node[deg=51, freq=0.000], Node[deg=41, freq=0.000], Node[deg=45, freq=0.000], Node[deg=51, freq=0.000], Node[deg=53, freq=0.000], Node[deg=59, freq=0.000], Node[deg=53, freq=0.000], Node[deg=48, freq=0.000], Node[deg=48, freq=0.000], Node[deg=50, freq=0.000], Node[deg=60, freq=0.000], Node[deg=53, freq=0.000]]\n",
      "50.18\n"
     ]
    }
   ],
   "source": [
    "NUM_NODES = 100\n",
    "a = create_graph_simple(NUM_NODES, 0.5)\n",
    "total = 0\n",
    "for n in a.nodes:\n",
    "    total += n.degree()\n",
    "print(a)\n",
    "print(total/NUM_NODES)"
   ]
  },
  {
   "cell_type": "markdown",
   "metadata": {},
   "source": [
    "### Timestep Function\n"
   ]
  },
  {
   "cell_type": "markdown",
   "metadata": {},
   "source": [
    "TODO: here should be a function that will be run every timestep. It will include two for loops that go over all nodes in the graph: in the first one it will put into a dictionary the position of the current node in the list of nodes, which will lead to its new frequency. In the second one it will go over the dictionary and update the frequencies."
   ]
  },
  {
   "cell_type": "code",
   "execution_count": 34,
   "metadata": {},
   "outputs": [],
   "source": [
    "def step_rule_follow_random_neighbor(node: Node) -> float:\n",
    "    if len(node.neighbors) == 0:\n",
    "        return node.frequency\n",
    "    return random.choice(node.neighbors).frequency"
   ]
  },
  {
   "cell_type": "code",
   "execution_count": 35,
   "metadata": {},
   "outputs": [],
   "source": [
    "def run_timestep(g: Graph) -> None:\n",
    "    # Goes through all of the nodes in the graph and adds it to a dictionary, pointing at its soon-to-be frequency.\n",
    "    # Then goes through all of the nodes again.\n",
    "    # Has to go through all of them twice so that the function step_rule will consider only the old frequencies and not the new ones. \n",
    "    d: dict[Node, float] = {}\n",
    "    for node in g.nodes:\n",
    "        d[node] = step_rule_follow_random_neighbor(node)\n",
    "    for node, freq in d.items():\n",
    "        node.frequency = freq"
   ]
  },
  {
   "cell_type": "markdown",
   "metadata": {},
   "source": [
    "# Main"
   ]
  },
  {
   "cell_type": "code",
   "execution_count": 62,
   "metadata": {},
   "outputs": [
    {
     "name": "stdout",
     "output_type": "stream",
     "text": [
      "[Node[deg=4, freq=0.904], Node[deg=5, freq=0.904], Node[deg=4, freq=0.904], Node[deg=1, freq=0.904], Node[deg=4, freq=0.904], Node[deg=6, freq=0.904], Node[deg=2, freq=0.904], Node[deg=5, freq=0.904], Node[deg=6, freq=0.904], Node[deg=3, freq=0.904], Node[deg=4, freq=0.904], Node[deg=3, freq=0.904], Node[deg=11, freq=0.904], Node[deg=4, freq=0.904], Node[deg=4, freq=0.904], Node[deg=4, freq=0.904], Node[deg=4, freq=0.904], Node[deg=0, freq=0.000], Node[deg=4, freq=0.904], Node[deg=2, freq=0.904], Node[deg=7, freq=0.904], Node[deg=3, freq=0.904], Node[deg=1, freq=0.904], Node[deg=5, freq=0.904], Node[deg=3, freq=0.904], Node[deg=5, freq=0.904], Node[deg=2, freq=0.904], Node[deg=5, freq=0.904], Node[deg=5, freq=0.904], Node[deg=1, freq=0.904], Node[deg=3, freq=0.904], Node[deg=6, freq=0.904], Node[deg=1, freq=0.904], Node[deg=5, freq=0.904], Node[deg=3, freq=0.904], Node[deg=2, freq=0.904], Node[deg=4, freq=0.904], Node[deg=6, freq=0.904], Node[deg=4, freq=0.904], Node[deg=8, freq=0.904], Node[deg=5, freq=0.904], Node[deg=3, freq=0.904], Node[deg=3, freq=0.904], Node[deg=2, freq=0.904], Node[deg=5, freq=0.904], Node[deg=4, freq=0.904], Node[deg=8, freq=0.904], Node[deg=5, freq=0.904], Node[deg=5, freq=0.904], Node[deg=4, freq=0.904], Node[deg=5, freq=0.904], Node[deg=4, freq=0.904], Node[deg=7, freq=0.904], Node[deg=6, freq=0.904], Node[deg=5, freq=0.904], Node[deg=5, freq=0.904], Node[deg=3, freq=0.904], Node[deg=6, freq=0.904], Node[deg=4, freq=0.904], Node[deg=4, freq=0.904], Node[deg=4, freq=0.904], Node[deg=6, freq=0.904], Node[deg=5, freq=0.904], Node[deg=1, freq=0.904], Node[deg=4, freq=0.904], Node[deg=4, freq=0.904], Node[deg=7, freq=0.904], Node[deg=5, freq=0.904], Node[deg=9, freq=0.904], Node[deg=5, freq=0.904], Node[deg=6, freq=0.904], Node[deg=5, freq=0.904], Node[deg=3, freq=0.904], Node[deg=4, freq=0.904], Node[deg=1, freq=0.904], Node[deg=6, freq=0.904], Node[deg=8, freq=0.904], Node[deg=3, freq=0.904], Node[deg=4, freq=0.904], Node[deg=7, freq=0.904], Node[deg=2, freq=0.904], Node[deg=3, freq=0.904], Node[deg=1, freq=0.904], Node[deg=8, freq=0.904], Node[deg=6, freq=0.904], Node[deg=7, freq=0.904], Node[deg=7, freq=0.904], Node[deg=3, freq=0.904], Node[deg=5, freq=0.904], Node[deg=3, freq=0.904], Node[deg=3, freq=0.904], Node[deg=2, freq=0.904], Node[deg=5, freq=0.904], Node[deg=4, freq=0.904], Node[deg=1, freq=0.904], Node[deg=3, freq=0.904], Node[deg=8, freq=0.904], Node[deg=3, freq=0.904], Node[deg=5, freq=0.904], Node[deg=2, freq=0.904]]\n"
     ]
    }
   ],
   "source": [
    "g = create_graph_simple(100, 0.05)\n",
    "for node in g.nodes:\n",
    "    if random.random() < 0.5:\n",
    "        node.frequency = random.random()\n",
    "    # else: it will be zero\n",
    "\n",
    "avg_list = []\n",
    "for i in range(500):\n",
    "    run_timestep(g)\n",
    "    avg_list.append(sum([node.frequency for node in g.nodes])/len(g.nodes))\n",
    "\n",
    "print(g)"
   ]
  },
  {
   "cell_type": "code",
   "execution_count": 63,
   "metadata": {},
   "outputs": [
    {
     "data": {
      "image/png": "[encoded data removed]",
      "text/plain": [
       "<Figure size 640x480 with 1 Axes>"
      ]
     },
     "metadata": {},
     "output_type": "display_data"
    }
   ],
   "source": [
    "plt.plot(avg_list)\n",
    "plt.xlabel('Time')\n",
    "plt.ylabel('Average word usage frequency')\n",
    "plt.title('Word usage over time')\n",
    "plt.show()"
   ]
  },
  {
   "cell_type": "code",
   "execution_count": null,
   "metadata": {},
   "outputs": [],
   "source": []
  }
 ],
 "metadata": {
  "kernelspec": {
   "display_name": "Python 3",
   "language": "python",
   "name": "python3"
  },
  "language_info": {
   "codemirror_mode": {
    "name": "ipython",
    "version": 3
   },
   "file_extension": ".py",
   "mimetype": "text/x-python",
   "name": "python",
   "nbconvert_exporter": "python",
   "pygments_lexer": "ipython3",
   "version": "3.9.7"
  }
 },
 "nbformat": 4,
 "nbformat_minor": 2
}
