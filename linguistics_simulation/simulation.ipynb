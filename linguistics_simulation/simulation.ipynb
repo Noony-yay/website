{
 "cells": [
  {
   "cell_type": "markdown",
   "metadata": {},
   "source": [
    "# Setup"
   ]
  },
  {
   "cell_type": "markdown",
   "metadata": {},
   "source": [
    "Imports:"
   ]
  },
  {
   "cell_type": "code",
   "execution_count": 1,
   "metadata": {},
   "outputs": [],
   "source": [
    "import sys\n",
    "import random\n",
    "import numpy as np\n",
    "import matplotlib.pyplot as plt\n",
    "\n",
    "sys.path.append(\"..\")\n",
    "\n",
    "from utils import graph"
   ]
  },
  {
   "cell_type": "markdown",
   "metadata": {},
   "source": [
    "### Defining classes"
   ]
  },
  {
   "cell_type": "markdown",
   "metadata": {},
   "source": [
    "* **Node** <br>\n",
    "  Every person in the simulation is a node.\n",
    "  * `neighbors`: a list of all of the Node's neighbors, which are also Nodes.\n",
    "  * `friend_group`: a random float between 0 and 1, good for arranging nodes into clumps.\n",
    "  * `frequency`: represents the frequency of the person using the new word. Changes every timestep.\n",
    "  * `degree()`: returns the number of neighbors the Node has -- its \"degree\".\n",
    "\n",
    "\n",
    "* **Graph** <br>\n",
    "  A class for all of the graphs. <br>\n",
    "  Contains a list of the Nodes in the graph. <br>\n",
    "  For example in this case we will have one \"Icelandic\" Graph and one \"English\" Graph.\n",
    "  * `nodes`: a list of all of the Nodes in this Graph.\n",
    "  * `create_edge`: gets two nodes. If they are both in the graph and are not already neighbors, each one is added to the other's list of neighbors, thus creating an edge between them."
   ]
  },
  {
   "cell_type": "code",
   "execution_count": 2,
   "metadata": {},
   "outputs": [],
   "source": [
    "class Node(graph.Node):\n",
    "    def __init__(self):\n",
    "        super().__init__()\n",
    "        self.friend_group: float = random.random()\n",
    "        self.frequency: float = 0\n",
    "        \n",
    "    def __repr__(self):\n",
    "        return f\"Node[deg={len(self.neighbors)}, freq={self.frequency:.3f}]\""
   ]
  },
  {
   "cell_type": "markdown",
   "metadata": {},
   "source": [
    "### Creating Graph"
   ]
  },
  {
   "cell_type": "markdown",
   "metadata": {},
   "source": [
    "These functions get the following parameters:\n",
    "* `node_num`: the number of Nodes that are going to be in the Graph.\n",
    "* `edge_prob`: the probability two random nodes would have an edge between them.\n",
    "And returns a Graph.\n",
    "\n",
    "Every iteration, the function creates a node, then goes over all of the nodes that were already created (this way the same pair of nodes will not occur twice). After going through the probability check, it creates an edge between the two nodes using `create_edge`.\n",
    "\n",
    "`friendliness`: The difference between the friend group of `g.nodes[i]` and `g.nodes[j]`, i.e. the two nodes we want to connect.\n",
    "\n",
    "* _`create_graph_simple`_:<br>\n",
    "  ignores friend groups, creates completely random edges. Better for simpler experiments, just to check things are working.\n",
    "* _`create_graph_w_friendliness`_:<br>\n",
    "  adds the friendliness to the edge_prob, meaning the probability of two nodes having an edge between them will be higher, but there will be clumps and the graph will not be completely random."
   ]
  },
  {
   "cell_type": "code",
   "execution_count": 3,
   "metadata": {},
   "outputs": [],
   "source": [
    "def create_graph_simple(node_num: int, edge_prob: float) -> graph.Graph:\n",
    "    g = graph.Graph()\n",
    "    for i in range(node_num):\n",
    "        g.nodes.append(Node())\n",
    "        for j in range(len(g.nodes)-1):\n",
    "            if random.random() < edge_prob:\n",
    "                g.create_edge(g.nodes[i], g.nodes[j])\n",
    "    return g"
   ]
  },
  {
   "cell_type": "code",
   "execution_count": 4,
   "metadata": {},
   "outputs": [],
   "source": [
    "def create_graph_w_friend(node_num: int, edge_prob: float) -> graph.Graph:\n",
    "    g = graph.Graph()\n",
    "    for i in range(node_num):\n",
    "        g.nodes.append(Node())\n",
    "        for j in range(len(g.nodes)-1):\n",
    "            friendliness = abs(g.nodes[i].friend_group - g.nodes[j].friend_group)\n",
    "            if random.random() < edge_prob + friendliness:\n",
    "                g.create_edge(g.nodes[i], g.nodes[j])\n",
    "    return g"
   ]
  },
  {
   "cell_type": "markdown",
   "metadata": {},
   "source": [
    "Testing:"
   ]
  },
  {
   "cell_type": "code",
   "execution_count": 5,
   "metadata": {},
   "outputs": [
    {
     "name": "stdout",
     "output_type": "stream",
     "text": [
      "[Node[deg=52, freq=0.000], Node[deg=52, freq=0.000], Node[deg=40, freq=0.000], Node[deg=50, freq=0.000], Node[deg=57, freq=0.000], Node[deg=41, freq=0.000], Node[deg=44, freq=0.000], Node[deg=43, freq=0.000], Node[deg=41, freq=0.000], Node[deg=48, freq=0.000], Node[deg=46, freq=0.000], Node[deg=52, freq=0.000], Node[deg=48, freq=0.000], Node[deg=47, freq=0.000], Node[deg=52, freq=0.000], Node[deg=45, freq=0.000], Node[deg=53, freq=0.000], Node[deg=50, freq=0.000], Node[deg=50, freq=0.000], Node[deg=49, freq=0.000], Node[deg=56, freq=0.000], Node[deg=54, freq=0.000], Node[deg=51, freq=0.000], Node[deg=49, freq=0.000], Node[deg=47, freq=0.000], Node[deg=51, freq=0.000], Node[deg=57, freq=0.000], Node[deg=50, freq=0.000], Node[deg=48, freq=0.000], Node[deg=48, freq=0.000], Node[deg=45, freq=0.000], Node[deg=54, freq=0.000], Node[deg=58, freq=0.000], Node[deg=45, freq=0.000], Node[deg=49, freq=0.000], Node[deg=51, freq=0.000], Node[deg=48, freq=0.000], Node[deg=58, freq=0.000], Node[deg=52, freq=0.000], Node[deg=48, freq=0.000], Node[deg=51, freq=0.000], Node[deg=59, freq=0.000], Node[deg=47, freq=0.000], Node[deg=50, freq=0.000], Node[deg=43, freq=0.000], Node[deg=48, freq=0.000], Node[deg=42, freq=0.000], Node[deg=59, freq=0.000], Node[deg=43, freq=0.000], Node[deg=44, freq=0.000], Node[deg=46, freq=0.000], Node[deg=45, freq=0.000], Node[deg=51, freq=0.000], Node[deg=35, freq=0.000], Node[deg=54, freq=0.000], Node[deg=54, freq=0.000], Node[deg=51, freq=0.000], Node[deg=37, freq=0.000], Node[deg=46, freq=0.000], Node[deg=49, freq=0.000], Node[deg=56, freq=0.000], Node[deg=56, freq=0.000], Node[deg=47, freq=0.000], Node[deg=46, freq=0.000], Node[deg=49, freq=0.000], Node[deg=45, freq=0.000], Node[deg=48, freq=0.000], Node[deg=53, freq=0.000], Node[deg=46, freq=0.000], Node[deg=35, freq=0.000], Node[deg=51, freq=0.000], Node[deg=57, freq=0.000], Node[deg=53, freq=0.000], Node[deg=42, freq=0.000], Node[deg=46, freq=0.000], Node[deg=47, freq=0.000], Node[deg=52, freq=0.000], Node[deg=52, freq=0.000], Node[deg=54, freq=0.000], Node[deg=47, freq=0.000], Node[deg=47, freq=0.000], Node[deg=47, freq=0.000], Node[deg=50, freq=0.000], Node[deg=56, freq=0.000], Node[deg=47, freq=0.000], Node[deg=50, freq=0.000], Node[deg=46, freq=0.000], Node[deg=53, freq=0.000], Node[deg=46, freq=0.000], Node[deg=54, freq=0.000], Node[deg=46, freq=0.000], Node[deg=53, freq=0.000], Node[deg=54, freq=0.000], Node[deg=55, freq=0.000], Node[deg=54, freq=0.000], Node[deg=48, freq=0.000], Node[deg=49, freq=0.000], Node[deg=47, freq=0.000], Node[deg=49, freq=0.000], Node[deg=52, freq=0.000]]\n",
      "49.18\n"
     ]
    }
   ],
   "source": [
    "NUM_NODES = 100\n",
    "a = create_graph_simple(NUM_NODES, 0.5)\n",
    "total = 0\n",
    "for n in a.nodes:\n",
    "    total += n.degree()\n",
    "print(a)\n",
    "print(total/NUM_NODES)"
   ]
  },
  {
   "cell_type": "markdown",
   "metadata": {},
   "source": [
    "### Timestep"
   ]
  },
  {
   "cell_type": "markdown",
   "metadata": {},
   "source": [
    "### Step Rules\n",
    "\n",
    "Each step rule function recieves a node as its parameter and returns the new frequency it calculated for this node.\n",
    "\n",
    "* `follow_random_neighbor`: chooses a random neighbor and returns its frequency.\n",
    "* `big_or_small_average`: if the average of the neighbors' frequencies is larger than 0.5, returns the average of the neighbors' frequencies that are larger than 0.5. If the average is smaller than 0.5, same only with the frequencies that are smaller. <br>\n",
    "  *observation*: pushes every frequency to its limit, resulting in the average frequency getting to the maximum or minimum point very very quickly.\n",
    "* **idea**: add an element `consistency: int` to class Node. Every timestep, every node with a frequency larger than some number (say, 0.5) will get a `consistency += 1`. In the time rule, if the consistency is larger than some number (say, 10), the frequency will drop to some precentage of itself (say, 20% of the current frequency). We can also add some randomality by doing `if consistency > 10 and random.random() > 0.5` instead of just the first part. Notice that this time step cannot stand up on its own and should also be added some more features. This is only between a node and itself, so it wouldn't do anything to the spreading of the word.\n",
    "\n",
    "If the step rule functions are given a node with 0 neighbors, they return its current frequency."
   ]
  },
  {
   "cell_type": "code",
   "execution_count": 6,
   "metadata": {},
   "outputs": [],
   "source": [
    "def step_rule_follow_random_neighbor(node: Node) -> float:\n",
    "    if node.degree() == 0:\n",
    "        return node.frequency\n",
    "    return random.choice(node.neighbors).frequency"
   ]
  },
  {
   "cell_type": "code",
   "execution_count": 7,
   "metadata": {},
   "outputs": [],
   "source": [
    "def step_rule_big_or_small_average(node: Node) -> float:\n",
    "    if node.degree() == 0:\n",
    "        return node.frequency\n",
    "        # so that we wouldn't divide by 0 in the next line\n",
    "    avg_neighbor_freq = sum(n.frequency for n in node.neighbors) / node.degree()\n",
    "    if avg_neighbor_freq > 0.5:\n",
    "        return np.mean([n.frequency for n in node.neighbors if n.frequency > 0.5]) # python is so beautiful\n",
    "    else:\n",
    "        return np.mean([n.frequency for n in node.neighbors if n.frequency <= 0.5])"
   ]
  },
  {
   "cell_type": "markdown",
   "metadata": {},
   "source": [
    "### Run Timestep\n",
    "\n",
    "Updates all of the nodes' frequencies.\n",
    "\n",
    "Recieves a the graph in which it should run the timestep and the step rule it needs to follow.\n",
    "\n",
    "Further explanation of how it works inside the function."
   ]
  },
  {
   "cell_type": "code",
   "execution_count": 8,
   "metadata": {},
   "outputs": [],
   "source": [
    "def run_timestep(g: graph.Graph, step_rule) -> None:\n",
    "    # Goes through all of the nodes in the graph and adds it to a dictionary, pointing at its soon-to-be frequency.\n",
    "    # Then goes through all of the nodes again and updates their frequency.\n",
    "    # Has to go through all of them twice so that the function step_rule will consider only the old frequencies and not the new ones. \n",
    "    d: dict[Node, float] = {}\n",
    "    for node in g.nodes:\n",
    "        d[node] = step_rule(node)\n",
    "    for node, freq in d.items():\n",
    "        node.frequency = freq"
   ]
  },
  {
   "cell_type": "markdown",
   "metadata": {},
   "source": [
    "# Main"
   ]
  },
  {
   "cell_type": "markdown",
   "metadata": {},
   "source": [
    "Can tweak and change this function. It is meant solely for creating the experiments themselves.\n",
    "\n",
    "What it does right now:\n",
    "* Creates a simple graph (no friend groups) with 100 nodes and 5% chance of edges.\n",
    "* Half of the nodes stay with a frequency of 0 as they were created. The other half each get a random frequency.\n",
    "* Runs 100 timesteps and keeps a list of the average frequency in each timestep for future plotting."
   ]
  },
  {
   "cell_type": "code",
   "execution_count": 9,
   "metadata": {},
   "outputs": [
    {
     "name": "stdout",
     "output_type": "stream",
     "text": [
      "[Node[deg=9, freq=0.938], Node[deg=3, freq=0.000], Node[deg=10, freq=0.000], Node[deg=5, freq=0.756], Node[deg=5, freq=0.000], Node[deg=4, freq=0.000], Node[deg=2, freq=0.000], Node[deg=5, freq=0.006], Node[deg=2, freq=0.397], Node[deg=5, freq=0.000], Node[deg=8, freq=0.000], Node[deg=4, freq=0.907], Node[deg=5, freq=0.000], Node[deg=7, freq=0.947], Node[deg=8, freq=0.353], Node[deg=5, freq=0.000], Node[deg=7, freq=0.000], Node[deg=4, freq=0.000], Node[deg=3, freq=0.000], Node[deg=6, freq=0.039], Node[deg=4, freq=0.000], Node[deg=6, freq=0.000], Node[deg=5, freq=0.000], Node[deg=8, freq=0.000], Node[deg=7, freq=0.034], Node[deg=8, freq=0.613], Node[deg=7, freq=0.000], Node[deg=5, freq=0.000], Node[deg=6, freq=0.253], Node[deg=2, freq=0.000], Node[deg=7, freq=0.374], Node[deg=4, freq=0.146], Node[deg=5, freq=0.702], Node[deg=8, freq=0.000], Node[deg=3, freq=0.460], Node[deg=6, freq=0.267], Node[deg=4, freq=0.061], Node[deg=5, freq=0.483], Node[deg=5, freq=0.005], Node[deg=4, freq=0.433], Node[deg=5, freq=0.000], Node[deg=8, freq=0.932], Node[deg=2, freq=0.441], Node[deg=6, freq=0.454], Node[deg=7, freq=0.000], Node[deg=6, freq=0.000], Node[deg=5, freq=0.269], Node[deg=3, freq=0.000], Node[deg=3, freq=0.000], Node[deg=5, freq=0.610], Node[deg=4, freq=0.996], Node[deg=2, freq=0.563], Node[deg=3, freq=0.000], Node[deg=5, freq=0.000], Node[deg=5, freq=0.883], Node[deg=3, freq=0.000], Node[deg=10, freq=0.775], Node[deg=6, freq=0.764], Node[deg=8, freq=0.000], Node[deg=5, freq=0.000], Node[deg=4, freq=0.111], Node[deg=6, freq=0.000], Node[deg=4, freq=0.000], Node[deg=5, freq=0.282], Node[deg=7, freq=0.751], Node[deg=5, freq=0.490], Node[deg=3, freq=0.000], Node[deg=3, freq=0.000], Node[deg=3, freq=0.611], Node[deg=5, freq=0.403], Node[deg=5, freq=0.000], Node[deg=4, freq=0.324], Node[deg=6, freq=0.000], Node[deg=7, freq=0.867], Node[deg=4, freq=0.000], Node[deg=4, freq=0.959], Node[deg=5, freq=0.369], Node[deg=6, freq=0.000], Node[deg=2, freq=0.386], Node[deg=8, freq=0.000], Node[deg=7, freq=0.000], Node[deg=6, freq=0.417], Node[deg=3, freq=0.000], Node[deg=2, freq=0.000], Node[deg=6, freq=0.000], Node[deg=7, freq=0.425], Node[deg=4, freq=0.989], Node[deg=1, freq=0.170], Node[deg=5, freq=0.000], Node[deg=7, freq=0.000], Node[deg=5, freq=0.000], Node[deg=5, freq=0.000], Node[deg=4, freq=0.708], Node[deg=5, freq=0.000], Node[deg=4, freq=0.775], Node[deg=4, freq=0.000], Node[deg=3, freq=0.396], Node[deg=1, freq=0.282], Node[deg=7, freq=0.398], Node[deg=5, freq=0.350]]\n",
      "[Node[deg=9, freq=0.105], Node[deg=3, freq=0.105], Node[deg=10, freq=0.105], Node[deg=5, freq=0.105], Node[deg=5, freq=0.105], Node[deg=4, freq=0.105], Node[deg=2, freq=0.105], Node[deg=5, freq=0.105], Node[deg=2, freq=0.105], Node[deg=5, freq=0.105], Node[deg=8, freq=0.105], Node[deg=4, freq=0.105], Node[deg=5, freq=0.105], Node[deg=7, freq=0.105], Node[deg=8, freq=0.105], Node[deg=5, freq=0.105], Node[deg=7, freq=0.105], Node[deg=4, freq=0.105], Node[deg=3, freq=0.105], Node[deg=6, freq=0.105], Node[deg=4, freq=0.105], Node[deg=6, freq=0.105], Node[deg=5, freq=0.105], Node[deg=8, freq=0.105], Node[deg=7, freq=0.105], Node[deg=8, freq=0.105], Node[deg=7, freq=0.105], Node[deg=5, freq=0.105], Node[deg=6, freq=0.105], Node[deg=2, freq=0.105], Node[deg=7, freq=0.105], Node[deg=4, freq=0.105], Node[deg=5, freq=0.105], Node[deg=8, freq=0.105], Node[deg=3, freq=0.105], Node[deg=6, freq=0.105], Node[deg=4, freq=0.105], Node[deg=5, freq=0.105], Node[deg=5, freq=0.105], Node[deg=4, freq=0.105], Node[deg=5, freq=0.105], Node[deg=8, freq=0.105], Node[deg=2, freq=0.105], Node[deg=6, freq=0.105], Node[deg=7, freq=0.105], Node[deg=6, freq=0.105], Node[deg=5, freq=0.105], Node[deg=3, freq=0.105], Node[deg=3, freq=0.105], Node[deg=5, freq=0.105], Node[deg=4, freq=0.105], Node[deg=2, freq=0.105], Node[deg=3, freq=0.105], Node[deg=5, freq=0.105], Node[deg=5, freq=0.105], Node[deg=3, freq=0.105], Node[deg=10, freq=0.105], Node[deg=6, freq=0.105], Node[deg=8, freq=0.105], Node[deg=5, freq=0.105], Node[deg=4, freq=0.105], Node[deg=6, freq=0.105], Node[deg=4, freq=0.105], Node[deg=5, freq=0.105], Node[deg=7, freq=0.105], Node[deg=5, freq=0.105], Node[deg=3, freq=0.105], Node[deg=3, freq=0.105], Node[deg=3, freq=0.105], Node[deg=5, freq=0.105], Node[deg=5, freq=0.105], Node[deg=4, freq=0.105], Node[deg=6, freq=0.105], Node[deg=7, freq=0.105], Node[deg=4, freq=0.105], Node[deg=4, freq=0.105], Node[deg=5, freq=0.105], Node[deg=6, freq=0.105], Node[deg=2, freq=0.105], Node[deg=8, freq=0.105], Node[deg=7, freq=0.105], Node[deg=6, freq=0.105], Node[deg=3, freq=0.105], Node[deg=2, freq=0.105], Node[deg=6, freq=0.105], Node[deg=7, freq=0.105], Node[deg=4, freq=0.105], Node[deg=1, freq=0.105], Node[deg=5, freq=0.105], Node[deg=7, freq=0.105], Node[deg=5, freq=0.105], Node[deg=5, freq=0.105], Node[deg=4, freq=0.105], Node[deg=5, freq=0.105], Node[deg=4, freq=0.105], Node[deg=4, freq=0.105], Node[deg=3, freq=0.105], Node[deg=1, freq=0.105], Node[deg=7, freq=0.105], Node[deg=5, freq=0.105]]\n"
     ]
    }
   ],
   "source": [
    "g = create_graph_simple(100, 0.05)\n",
    "for node in g.nodes:\n",
    "    if random.random() < 0.5:\n",
    "        node.frequency = random.random()\n",
    "    # else: it will be zero\n",
    "print(g)\n",
    "\n",
    "avg_list = []\n",
    "for i in range(500):\n",
    "    run_timestep(g, step_rule_big_or_small_average)\n",
    "    avg_list.append(sum([node.frequency for node in g.nodes])/len(g.nodes))\n",
    "\n",
    "\n",
    "\n",
    "print(g)"
   ]
  },
  {
   "cell_type": "markdown",
   "metadata": {},
   "source": [
    "Plotting:"
   ]
  },
  {
   "cell_type": "code",
   "execution_count": 10,
   "metadata": {},
   "outputs": [
    {
     "data": {
      "image/png": "[encoded data removed]",
      "text/plain": [
       "<Figure size 640x480 with 1 Axes>"
      ]
     },
     "metadata": {},
     "output_type": "display_data"
    }
   ],
   "source": [
    "plt.plot(avg_list)\n",
    "plt.xlabel('Time')\n",
    "plt.ylabel('Average word usage frequency')\n",
    "plt.title('Word usage over time')\n",
    "plt.show()"
   ]
  }
 ],
 "metadata": {
  "kernelspec": {
   "display_name": "Python 3",
   "language": "python",
   "name": "python3"
  },
  "language_info": {
   "codemirror_mode": {
    "name": "ipython",
    "version": 3
   },
   "file_extension": ".py",
   "mimetype": "text/x-python",
   "name": "python",
   "nbconvert_exporter": "python",
   "pygments_lexer": "ipython3",
   "version": "3.9.7"
  }
 },
 "nbformat": 4,
 "nbformat_minor": 2
}
