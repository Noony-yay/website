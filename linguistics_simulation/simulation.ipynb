{
 "cells": [
  {
   "cell_type": "markdown",
   "metadata": {},
   "source": [
    "## Setup"
   ]
  },
  {
   "cell_type": "code",
   "execution_count": 1,
   "metadata": {},
   "outputs": [],
   "source": [
    "from dataclasses import dataclass"
   ]
  },
  {
   "cell_type": "markdown",
   "metadata": {},
   "source": [
    "### Defining dataclasses\n",
    "\n",
    "* **Node** <br>\n",
    "  Every person in the simulation is a node. <br>\n",
    "  For now only contains a list of its neighbors, which are also Nodes.\n",
    "\n",
    "* **Graph** <br>\n",
    "  A class for all of the graphs. <br>\n",
    "  Contains a list of the Nodes in the graph. <br>\n",
    "  for example in this case we will have one \"Icelandic\" Graph and one \"English\" Graph."
   ]
  },
  {
   "cell_type": "code",
   "execution_count": 2,
   "metadata": {},
   "outputs": [],
   "source": [
    "@dataclass\n",
    "class Node:\n",
    "    neighbors: list[\"Node\"]\n",
    "\n",
    "@dataclass\n",
    "class Graph:\n",
    "    nodes: list[Node]"
   ]
  }
 ],
 "metadata": {
  "kernelspec": {
   "display_name": "Python 3",
   "language": "python",
   "name": "python3"
  },
  "language_info": {
   "codemirror_mode": {
    "name": "ipython",
    "version": 3
   },
   "file_extension": ".py",
   "mimetype": "text/x-python",
   "name": "python",
   "nbconvert_exporter": "python",
   "pygments_lexer": "ipython3",
   "version": "3.9.7"
  }
 },
 "nbformat": 4,
 "nbformat_minor": 2
}
